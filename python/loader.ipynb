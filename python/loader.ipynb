{
 "cells": [
  {
   "cell_type": "markdown",
   "metadata": {},
   "source": [
    "# Probedrum Loader"
   ]
  },
  {
   "cell_type": "code",
   "execution_count": 6,
   "metadata": {
    "collapsed": false
   },
   "outputs": [],
   "source": [
    "import pandas as pd\n",
    "import numpy as np\n",
    "import glob, locale\n",
    "import matplotlib as mpl\n",
    "import matplotlib.pyplot as plt\n",
    "%matplotlib inline\n",
    "plt.rcParams.update({'font.size': 16, 'figure.figsize': [8.0, 6.0]})"
   ]
  },
  {
   "cell_type": "markdown",
   "metadata": {},
   "source": [
    "Simplistic support functions for loading MXW data files and directories into Pandas structures. Note that special care is taken to convert Windows-style carriage returns, tab separation, and region specific decimal delimiters."
   ]
  },
  {
   "cell_type": "code",
   "execution_count": 7,
   "metadata": {
    "collapsed": false
   },
   "outputs": [],
   "source": [
    "def readmxw(file):\n",
    "    \"\"\" read single .mxw file into Pandas Series object \"\"\"\n",
    "    with open(file, 'rU') as f:\n",
    "        c = lambda valstr: float(valstr.split('=')[-1])\n",
    "        l = f.readline().split('\\t')\n",
    "        d = {'time':c(l[0]), 'T':c(l[2]), 'vol':c(l[3]), 'conc':c(l[4]), 'elec':c(l[5])}\n",
    "        \n",
    "    comma = lambda valstr: float(valstr.decode(\"utf-8\").replace(',','.'))\n",
    "    d['spec'] = np.genfromtxt(file, skip_header=1, converters={0:comma, 1:comma}, usecols=(0,1))\n",
    "    return pd.Series(d, name=int(d['time']))\n",
    "\n",
    "def readmxwdir(pattern):\n",
    "    \"\"\" read set of .mxw files into Pandas DataFrame object \"\"\"\n",
    "    d = pd.DataFrame()\n",
    "    for f in glob.glob(pattern):\n",
    "        d = d.append( readmxw(f) )\n",
    "    return d    "
   ]
  },
  {
   "cell_type": "markdown",
   "metadata": {},
   "source": [
    "Let's try it out:"
   ]
  },
  {
   "cell_type": "code",
   "execution_count": 8,
   "metadata": {
    "collapsed": false
   },
   "outputs": [
    {
     "data": {
      "text/html": [
       "<div>\n",
       "<table border=\"1\" class=\"dataframe\">\n",
       "  <thead>\n",
       "    <tr style=\"text-align: right;\">\n",
       "      <th></th>\n",
       "      <th>T</th>\n",
       "      <th>conc</th>\n",
       "      <th>elec</th>\n",
       "      <th>spec</th>\n",
       "      <th>time</th>\n",
       "      <th>vol</th>\n",
       "    </tr>\n",
       "  </thead>\n",
       "  <tbody>\n",
       "    <tr>\n",
       "      <th>0</th>\n",
       "      <td>19.6</td>\n",
       "      <td>0.000000</td>\n",
       "      <td>3.40</td>\n",
       "      <td>[[240.1041, -0.3369], [240.4007, -0.7928], [24...</td>\n",
       "      <td>0</td>\n",
       "      <td>1000.000</td>\n",
       "    </tr>\n",
       "    <tr>\n",
       "      <th>602</th>\n",
       "      <td>20.0</td>\n",
       "      <td>0.000000</td>\n",
       "      <td>3.46</td>\n",
       "      <td>[[240.1041, -0.624], [240.4007, -0.8904], [240...</td>\n",
       "      <td>602</td>\n",
       "      <td>1000.000</td>\n",
       "    </tr>\n",
       "    <tr>\n",
       "      <th>813</th>\n",
       "      <td>20.0</td>\n",
       "      <td>0.407617</td>\n",
       "      <td>3.68</td>\n",
       "      <td>[[240.1041, -0.6679], [240.4007, -0.7373], [24...</td>\n",
       "      <td>813</td>\n",
       "      <td>1004.093</td>\n",
       "    </tr>\n",
       "    <tr>\n",
       "      <th>921</th>\n",
       "      <td>20.0</td>\n",
       "      <td>0.785351</td>\n",
       "      <td>3.84</td>\n",
       "      <td>[[240.1041, -0.5926], [240.4007, -0.7725], [24...</td>\n",
       "      <td>921</td>\n",
       "      <td>1007.916</td>\n",
       "    </tr>\n",
       "    <tr>\n",
       "      <th>1030</th>\n",
       "      <td>20.0</td>\n",
       "      <td>1.405016</td>\n",
       "      <td>4.03</td>\n",
       "      <td>[[240.1041, -0.4213], [240.4007, -0.8435], [24...</td>\n",
       "      <td>1030</td>\n",
       "      <td>1014.250</td>\n",
       "    </tr>\n",
       "  </tbody>\n",
       "</table>\n",
       "</div>"
      ],
      "text/plain": [
       "         T      conc  elec                                               spec  \\\n",
       "0     19.6  0.000000  3.40  [[240.1041, -0.3369], [240.4007, -0.7928], [24...   \n",
       "602   20.0  0.000000  3.46  [[240.1041, -0.624], [240.4007, -0.8904], [240...   \n",
       "813   20.0  0.407617  3.68  [[240.1041, -0.6679], [240.4007, -0.7373], [24...   \n",
       "921   20.0  0.785351  3.84  [[240.1041, -0.5926], [240.4007, -0.7725], [24...   \n",
       "1030  20.0  1.405016  4.03  [[240.1041, -0.4213], [240.4007, -0.8435], [24...   \n",
       "\n",
       "      time       vol  \n",
       "0        0  1000.000  \n",
       "602    602  1000.000  \n",
       "813    813  1004.093  \n",
       "921    921  1007.916  \n",
       "1030  1030  1014.250  "
      ]
     },
     "execution_count": 8,
     "metadata": {},
     "output_type": "execute_result"
    }
   ],
   "source": [
    "d = readmxwdir('AscData/*.mxw')\n",
    "d.head()"
   ]
  },
  {
   "cell_type": "code",
   "execution_count": 9,
   "metadata": {
    "collapsed": false
   },
   "outputs": [
    {
     "data": {
      "text/plain": [
       "<matplotlib.legend.Legend at 0x106b3b090>"
      ]
     },
     "execution_count": 9,
     "metadata": {},
     "output_type": "execute_result"
    },
    {
     "data": {
      "image/png": "[encoded data removed]",
      "text/plain": [
       "<matplotlib.figure.Figure at 0x106b3b050>"
      ]
     },
     "metadata": {},
     "output_type": "display_data"
    }
   ],
   "source": [
    "plt.plot( d.vol, d.elec, 'r-', label='orginal' )\n",
    "plt.legend(loc=0, frameon=False)"
   ]
  },
  {
   "cell_type": "code",
   "execution_count": 10,
   "metadata": {
    "collapsed": false
   },
   "outputs": [
    {
     "data": {
      "text/plain": [
       "<matplotlib.text.Text at 0x106aac350>"
      ]
     },
     "execution_count": 10,
     "metadata": {},
     "output_type": "execute_result"
    },
    {
     "data": {
      "image/png": "[encoded data removed]",
      "text/plain": [
       "<matplotlib.figure.Figure at 0x103e5b0d0>"
      ]
     },
     "metadata": {},
     "output_type": "display_data"
    }
   ],
   "source": [
    "# plot spectrum at pH 4.03\n",
    "s = d[ d.elec==4.03 ].spec.values[0]\n",
    "plt.plot(s[:,0], s[:,1])\n",
    "plt.xlabel(r'wavelength, $\\lambda$ (nm)')\n",
    "plt.ylabel(r'absorbance')"
   ]
  },
  {
   "cell_type": "code",
   "execution_count": null,
   "metadata": {
    "collapsed": true
   },
   "outputs": [],
   "source": []
  }
 ],
 "metadata": {
  "kernelspec": {
   "display_name": "Python 2",
   "language": "python",
   "name": "python2"
  },
  "language_info": {
   "codemirror_mode": {
    "name": "ipython",
    "version": 2
   },
   "file_extension": ".py",
   "mimetype": "text/x-python",
   "name": "python",
   "nbconvert_exporter": "python",
   "pygments_lexer": "ipython2",
   "version": "2.7.11"
  }
 },
 "nbformat": 4,
 "nbformat_minor": 0
}
